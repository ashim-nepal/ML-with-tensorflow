{
 "cells": [
  {
   "cell_type": "markdown",
   "id": "8380e09e",
   "metadata": {},
   "source": [
    "# Assignment Week 2 on Computer Vision"
   ]
  },
  {
   "cell_type": "code",
   "execution_count": null,
   "id": "57f3dc26",
   "metadata": {},
   "outputs": [],
   "source": []
  }
 ],
 "metadata": {
  "kernelspec": {
   "display_name": "Python 3 (ipykernel)",
   "language": "python",
   "name": "python3"
  },
  "language_info": {
   "codemirror_mode": {
    "name": "ipython",
    "version": 3
   },
   "file_extension": ".py",
   "mimetype": "text/x-python",
   "name": "python",
   "nbconvert_exporter": "python",
   "pygments_lexer": "ipython3",
   "version": "3.11.3"
  }
 },
 "nbformat": 4,
 "nbformat_minor": 5
}
